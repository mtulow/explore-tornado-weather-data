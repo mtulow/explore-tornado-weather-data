{
 "cells": [
  {
   "cell_type": "markdown",
   "metadata": {},
   "source": [
    "<H1><center> Download & Pre-Process Weather Data  </center></H1>"
   ]
  },
  {
   "cell_type": "markdown",
   "metadata": {},
   "source": [
    "<H2><center> Functions and pre-processors for each project dataset </center></H2>\n",
    "<hr>"
   ]
  },
  {
   "cell_type": "markdown",
   "metadata": {},
   "source": [
    "## Setup Envrionment\n",
    "---"
   ]
  },
  {
   "cell_type": "code",
   "execution_count": null,
   "metadata": {},
   "outputs": [],
   "source": []
  },
  {
   "cell_type": "markdown",
   "metadata": {},
   "source": [
    "#### Install Packages"
   ]
  },
  {
   "cell_type": "code",
   "execution_count": null,
   "metadata": {},
   "outputs": [],
   "source": []
  },
  {
   "cell_type": "markdown",
   "metadata": {},
   "source": [
    "#### Import Libraries"
   ]
  },
  {
   "cell_type": "code",
   "execution_count": null,
   "metadata": {},
   "outputs": [],
   "source": []
  },
  {
   "cell_type": "markdown",
   "metadata": {},
   "source": [
    "## Datasets\n",
    "---"
   ]
  },
  {
   "cell_type": "markdown",
   "metadata": {},
   "source": [
    "__Relevant Data:__\n",
    "|Products|Source|Code|Progress|\n",
    "|:-------|:-----|:--:|:------:|\n",
    "|Geographic Boundaries|[NOAA Storm Prediction Center](https://www.spc.noaa.gov/wcm/#data)|[...](#severe-weather-data)|{e}|\n",
    "|Severe Weather: (tornadoes, hail, wind)|[NOAA Storm Prediction Center](https://www.spc.noaa.gov/wcm/#data)|[...](#severe-weather-data)|\n",
    "|Radar|[NOAA NEXRAD Station Data](https://www.ncdc.noaa.gov/nexradinv/)|[...](#radar)|\n",
    "|Population|[US Census Bureau](https://www.census.gov/data/tables/time-series/demo/popest/2010s-counties-total.html#par_textimage_70769902)|[...](#population)|\n",
    "|Temperature: (LST, SST)|[NOAA National Centers for Environmental Information](https://www.ncdc.noaa.gov/cdo-web/search)|[...](#temperature)|\n",
    "<!-- - (https://www.spc.noaa.gov/wcm/#data) -->"
   ]
  },
  {
   "cell_type": "code",
   "execution_count": null,
   "metadata": {},
   "outputs": [],
   "source": []
  }
 ],
 "metadata": {
  "kernelspec": {
   "display_name": "base",
   "language": "python",
   "name": "python3"
  },
  "language_info": {
   "name": "python",
   "version": "3.10.12"
  }
 },
 "nbformat": 4,
 "nbformat_minor": 2
}
